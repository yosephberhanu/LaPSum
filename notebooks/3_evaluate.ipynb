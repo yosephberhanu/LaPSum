{
 "cells": [
  {
   "cell_type": "markdown",
   "id": "18d92575",
   "metadata": {},
   "source": [
    "## Run Evaluation\n",
    "## Introduction\n",
    "This notebook is for evaluation of LaPSUM.\n",
    "\n",
    "It expects the data to be loaded from the evaluation trial.\n",
    "\n",
    "### Import Libraries\n"
   ]
  },
  {
   "cell_type": "code",
   "execution_count": 56,
   "id": "61f55d3b",
   "metadata": {},
   "outputs": [],
   "source": [
    "import os\n",
    "import sys\n",
    "sys.path.append(os.path.abspath(\"../\"))"
   ]
  },
  {
   "cell_type": "code",
   "execution_count": 57,
   "id": "9afb7f66",
   "metadata": {},
   "outputs": [],
   "source": [
    "import re  # For regex-based extraction of scores and explanations\n",
    "import pandas as pd\n",
    "import random\n",
    "import time\n",
    "\n",
    "from langchain.prompts import PromptTemplate\n",
    "from langchain.chat_models import ChatOllama\n",
    "from groq import Groq\n",
    "from groq import RateLimitError, APIError\n",
    "from langchain.chains import LLMChain\n",
    "from dotenv import load_dotenv\n"
   ]
  },
  {
   "cell_type": "code",
   "execution_count": 58,
   "id": "39ce0c1f",
   "metadata": {},
   "outputs": [
    {
     "data": {
      "text/plain": [
       "1020"
      ]
     },
     "execution_count": 58,
     "metadata": {},
     "output_type": "execute_result"
    }
   ],
   "source": [
    "data = pd.concat([pd.read_csv(f\"../data/generated/generated_{i}.csv\") for i in range(9,15)], ignore_index=True)\n",
    "len(data)"
   ]
  },
  {
   "cell_type": "code",
   "execution_count": null,
   "id": "366008de",
   "metadata": {},
   "outputs": [],
   "source": []
  },
  {
   "cell_type": "code",
   "execution_count": 59,
   "id": "6ad243a4",
   "metadata": {},
   "outputs": [],
   "source": [
    "data = data.sort_values(by=['question_id', 'project', 'run_id'])\n",
    "data['response_label'] = data.groupby(['question_id', 'project']).cumcount() + 1\n",
    "data['response_label'] = 'response_' + data['response_label'].astype(str)\n",
    "\n",
    "# Step 2: Pivot final_response\n",
    "response_pivot = data.pivot_table(\n",
    "    index=['question_id', 'project'],\n",
    "    columns='response_label',\n",
    "    values='final_response',\n",
    "    aggfunc='first'\n",
    ")\n",
    "\n",
    "# Step 3: Extract one question per (question_id, project)\n",
    "question_lookup = data.drop_duplicates(subset=['question_id', 'project'])[['question_id', 'project', 'question']]\n",
    "\n",
    "# Step 4: Merge the question back into the pivoted data\n",
    "final_df = pd.merge(question_lookup, response_pivot.reset_index(), on=['question_id', 'project'])\n",
    "\n",
    "# Optional: Reorder columns\n",
    "cols = ['question_id', 'project', 'question'] + [col for col in final_df.columns if col.startswith('response_')]\n",
    "final_df = final_df[cols]\n"
   ]
  },
  {
   "cell_type": "code",
   "execution_count": 60,
   "id": "19d726c8",
   "metadata": {},
   "outputs": [],
   "source": [
    "final_df.to_csv(\"../data/generated/combined_reponse.csv\", index=False)"
   ]
  },
  {
   "cell_type": "code",
   "execution_count": 61,
   "id": "185337b9",
   "metadata": {},
   "outputs": [
    {
     "data": {
      "text/html": [
       "<div>\n",
       "<style scoped>\n",
       "    .dataframe tbody tr th:only-of-type {\n",
       "        vertical-align: middle;\n",
       "    }\n",
       "\n",
       "    .dataframe tbody tr th {\n",
       "        vertical-align: top;\n",
       "    }\n",
       "\n",
       "    .dataframe thead th {\n",
       "        text-align: right;\n",
       "    }\n",
       "</style>\n",
       "<table border=\"1\" class=\"dataframe\">\n",
       "  <thead>\n",
       "    <tr style=\"text-align: right;\">\n",
       "      <th></th>\n",
       "      <th>question_id</th>\n",
       "      <th>project</th>\n",
       "      <th>question</th>\n",
       "      <th>response_1</th>\n",
       "      <th>response_2</th>\n",
       "      <th>response_3</th>\n",
       "      <th>response_4</th>\n",
       "      <th>response_5</th>\n",
       "      <th>response_6</th>\n",
       "    </tr>\n",
       "  </thead>\n",
       "  <tbody>\n",
       "    <tr>\n",
       "      <th>0</th>\n",
       "      <td>1</td>\n",
       "      <td>groovy/groovy-core</td>\n",
       "      <td>Is there an entity named something like PojoCa...</td>\n",
       "      <td>\\n\\nHowever, this information doesn't actually...</td>\n",
       "      <td>\\n\\nUnfortunately, the information provided do...</td>\n",
       "      <td>\\n\\nYes, there is an entity named `PojoCachedM...</td>\n",
       "      <td>[]</td>\n",
       "      <td>\\n\\nYes, there is an entity named `PojoCachedM...</td>\n",
       "      <td>\\n\\nYes, there is an entity named exactly `Poj...</td>\n",
       "    </tr>\n",
       "    <tr>\n",
       "      <th>1</th>\n",
       "      <td>1</td>\n",
       "      <td>joestelmach/natty</td>\n",
       "      <td>Is there an entity named something like Parser...</td>\n",
       "      <td>Error: cound not answer</td>\n",
       "      <td>Error: cound not answer</td>\n",
       "      <td>Error: cound not answer</td>\n",
       "      <td>\\n\\nYes, there is an entity named \"Parser\" in ...</td>\n",
       "      <td>\\n\\nYes, there is an entity named \"Parser\" in ...</td>\n",
       "      <td>\\n\\nSo yes, there is an entity named \"Parser\" ...</td>\n",
       "    </tr>\n",
       "    <tr>\n",
       "      <th>2</th>\n",
       "      <td>1</td>\n",
       "      <td>pedrovgs/Renderers</td>\n",
       "      <td>Is there an entity named something like Recycl...</td>\n",
       "      <td>\\n\\nHowever, this information doesn't clearly ...</td>\n",
       "      <td>\\n\\nYes, there is an entity named exactly \"Rec...</td>\n",
       "      <td>\\n\\nYes, there is an entity named RecyclerView...</td>\n",
       "      <td>\\n\\nYes, there is an entity named exactly \"Rec...</td>\n",
       "      <td>\\n\\nYes, there is an entity named exactly \"Rec...</td>\n",
       "      <td>\\n\\nYes, there is an entity named `RecyclerVie...</td>\n",
       "    </tr>\n",
       "    <tr>\n",
       "      <th>3</th>\n",
       "      <td>1</td>\n",
       "      <td>sstrickx/yahoofinance-api</td>\n",
       "      <td>Is there an entity named something like YahooF...</td>\n",
       "      <td>\\n\\nBased on the limited information provided,...</td>\n",
       "      <td>\\n\\nSo yes, there is an entity named YahooFina...</td>\n",
       "      <td>\\n\\nSo yes, there is an entity named YahooFina...</td>\n",
       "      <td>\\n\\nBased on the information provided, I don't...</td>\n",
       "      <td>\\n\\nYes, there is an entity named YahooFinance...</td>\n",
       "      <td>\\n\\nThis information is incomplete and doesn't...</td>\n",
       "    </tr>\n",
       "    <tr>\n",
       "      <th>4</th>\n",
       "      <td>1</td>\n",
       "      <td>wg/scrypt</td>\n",
       "      <td>Is there an entity named something like SCrypt...</td>\n",
       "      <td>\\n\\nYes, there are several entities with names...</td>\n",
       "      <td>\\n\\nBased on the information provided, I don't...</td>\n",
       "      <td>\\n\\nI don't see any entity named \"SCrypt\" or a...</td>\n",
       "      <td>\\n\\nHowever, this information is quite limited...</td>\n",
       "      <td>\\n\\nHowever, none of these appears to be named...</td>\n",
       "      <td>\\n\\nBased on this information, there doesn't a...</td>\n",
       "    </tr>\n",
       "  </tbody>\n",
       "</table>\n",
       "</div>"
      ],
      "text/plain": [
       "   question_id                    project  \\\n",
       "0            1         groovy/groovy-core   \n",
       "1            1          joestelmach/natty   \n",
       "2            1         pedrovgs/Renderers   \n",
       "3            1  sstrickx/yahoofinance-api   \n",
       "4            1                  wg/scrypt   \n",
       "\n",
       "                                            question  \\\n",
       "0  Is there an entity named something like PojoCa...   \n",
       "1  Is there an entity named something like Parser...   \n",
       "2  Is there an entity named something like Recycl...   \n",
       "3  Is there an entity named something like YahooF...   \n",
       "4  Is there an entity named something like SCrypt...   \n",
       "\n",
       "                                          response_1  \\\n",
       "0  \\n\\nHowever, this information doesn't actually...   \n",
       "1                            Error: cound not answer   \n",
       "2  \\n\\nHowever, this information doesn't clearly ...   \n",
       "3  \\n\\nBased on the limited information provided,...   \n",
       "4  \\n\\nYes, there are several entities with names...   \n",
       "\n",
       "                                          response_2  \\\n",
       "0  \\n\\nUnfortunately, the information provided do...   \n",
       "1                            Error: cound not answer   \n",
       "2  \\n\\nYes, there is an entity named exactly \"Rec...   \n",
       "3  \\n\\nSo yes, there is an entity named YahooFina...   \n",
       "4  \\n\\nBased on the information provided, I don't...   \n",
       "\n",
       "                                          response_3  \\\n",
       "0  \\n\\nYes, there is an entity named `PojoCachedM...   \n",
       "1                            Error: cound not answer   \n",
       "2  \\n\\nYes, there is an entity named RecyclerView...   \n",
       "3  \\n\\nSo yes, there is an entity named YahooFina...   \n",
       "4  \\n\\nI don't see any entity named \"SCrypt\" or a...   \n",
       "\n",
       "                                          response_4  \\\n",
       "0                                                 []   \n",
       "1  \\n\\nYes, there is an entity named \"Parser\" in ...   \n",
       "2  \\n\\nYes, there is an entity named exactly \"Rec...   \n",
       "3  \\n\\nBased on the information provided, I don't...   \n",
       "4  \\n\\nHowever, this information is quite limited...   \n",
       "\n",
       "                                          response_5  \\\n",
       "0  \\n\\nYes, there is an entity named `PojoCachedM...   \n",
       "1  \\n\\nYes, there is an entity named \"Parser\" in ...   \n",
       "2  \\n\\nYes, there is an entity named exactly \"Rec...   \n",
       "3  \\n\\nYes, there is an entity named YahooFinance...   \n",
       "4  \\n\\nHowever, none of these appears to be named...   \n",
       "\n",
       "                                          response_6  \n",
       "0  \\n\\nYes, there is an entity named exactly `Poj...  \n",
       "1  \\n\\nSo yes, there is an entity named \"Parser\" ...  \n",
       "2  \\n\\nYes, there is an entity named `RecyclerVie...  \n",
       "3  \\n\\nThis information is incomplete and doesn't...  \n",
       "4  \\n\\nBased on this information, there doesn't a...  "
      ]
     },
     "execution_count": 61,
     "metadata": {},
     "output_type": "execute_result"
    }
   ],
   "source": [
    "final_df.head(5)"
   ]
  },
  {
   "cell_type": "markdown",
   "id": "7e6d5dec",
   "metadata": {},
   "source": [
    "## Evaluation "
   ]
  },
  {
   "cell_type": "code",
   "execution_count": 63,
   "id": "0c9a7103",
   "metadata": {},
   "outputs": [],
   "source": [
    "# Move the evaluation code here\n",
    "load_dotenv()\n",
    "\n",
    "df = pd.read_csv(\"../data/generated/combined_reponse.csv\")\n",
    "\n",
    "client = Groq(\n",
    "    api_key=os.environ.get(\"GROQ_API_KEY\"),\n",
    ")"
   ]
  },
  {
   "cell_type": "code",
   "execution_count": 64,
   "id": "f94d0f52595d74b2",
   "metadata": {},
   "outputs": [],
   "source": [
    "def send_to_groq(query, max_retries=5, initial_delay=60):\n",
    "    retries = 0\n",
    "    delay = initial_delay\n",
    "\n",
    "    while retries < max_retries:\n",
    "        try:\n",
    "            # Send the query to the Groq chat model\n",
    "            chat_completion = client.chat.completions.create(\n",
    "                messages=[\n",
    "                    {\n",
    "                        \"role\": \"user\",\n",
    "                        \"content\": query,\n",
    "                    }\n",
    "                ],\n",
    "                model=\"llama3-70b-8192\",\n",
    "                temperature=0.5\n",
    "            )\n",
    "\n",
    "            # Successful response\n",
    "            response_text = chat_completion.choices[0].message.content\n",
    "            break\n",
    "\n",
    "        except RateLimitError:\n",
    "            print(f\"Rate limit hit. Retrying in {delay} seconds...\")\n",
    "            time.sleep(delay)\n",
    "            retries += 1\n",
    "            delay *= 2  # Exponential backoff\n",
    "\n",
    "        except APIError as e:\n",
    "            print(f\"API error: {e}\")\n",
    "            raise e  # re-raise for now unless you want to handle other types\n",
    "\n",
    "    else:\n",
    "        raise RuntimeError(\"Exceeded maximum retries due to rate limiting.\")\n",
    "\n",
    "    # Parse the response text (same as before)\n",
    "    scores = []\n",
    "    explanations = []\n",
    "    response_num_pattern = re.compile(r\"Response\\s*(\\d+)\")\n",
    "    score_pattern = re.compile(r\"Score\\s*-\\s*(\\d+)\")\n",
    "    explanation_pattern = re.compile(r\"Explanation.\\s*(.*)\")\n",
    "\n",
    "    current_score = None\n",
    "    current_explanation = None\n",
    "\n",
    "    for line in response_text.split(\"\\n\"):\n",
    "        if score_match := score_pattern.search(line):\n",
    "            current_score = int(score_match.group(1))\n",
    "        if explanation_match := explanation_pattern.search(line):\n",
    "            current_explanation = explanation_match.group(1).strip()\n",
    "        if current_score is not None and current_explanation is not None:\n",
    "            scores.append(current_score)\n",
    "            explanations.append(current_explanation)\n",
    "            current_score = None\n",
    "            current_explanation = None\n",
    "\n",
    "    return scores, explanations"
   ]
  },
  {
   "cell_type": "code",
   "execution_count": 65,
   "id": "d1db0ebed0d5ce66",
   "metadata": {},
   "outputs": [],
   "source": [
    "def process_and_map_scores(df_randomized):\n",
    "    # Prepare the query for evaluation\n",
    "    query_base = \"\"\"\n",
    "        You are an experienced evaluator assessing responses from developers to technical questions.\n",
    "\n",
    "        For each question, the responses from the developers have been provided. Evaluate how well each response answers the question on a scale of 1-10, where:\n",
    "        - 1 means the response is completely irrelevant or fails to answer the question.\n",
    "        - 10 means the response fully answers the question, providing a thorough, clear, and correct explanation.\n",
    "\n",
    "        For each response:\n",
    "        - Consider the relevance of the response to the question.\n",
    "        - Consider the completeness of the answer. Does the response cover all parts of the question?\n",
    "        - Consider the clarity of the response. Is it easy to understand and well-explained?\n",
    "\n",
    "        Return your evaluation in the following format:\n",
    "        Response X: Score - X Explanation: Explanation of why you gave this score.\n",
    "\n",
    "        Example Response:\n",
    "        Response 1: Score - 4 Explanation: While the response is relevant to the question it fails to provide contextual details.\n",
    "\n",
    "        Here is the question and response:\n",
    "    \"\"\"\n",
    "\n",
    "    evaluation_results = []  # To store the results (scores and explanations)\n",
    "\n",
    "    # Iterate over each row in the randomized data to send each response individually\n",
    "    for idx, row in df_randomized.iterrows():\n",
    "        project = row['project']\n",
    "        question = row['question']\n",
    "        question_id = row['question_id']\n",
    "        response = row['response']\n",
    "        original_index = row['original_index']\n",
    "        response_order = row['response_order']\n",
    "\n",
    "        # Construct the query for this specific response\n",
    "        query = query_base + f\"\\t{question}: {response}\\n\"\n",
    "        query += \"\\t\\t---\\n\\t\\tPlease provide a score (1-10) and an explanation for this response.\"\n",
    "\n",
    "        # Send the query to Ollama (or any other evaluator)\n",
    "        ollama_scores, ollama_explanations = send_to_groq(query)  # Define this function to send and get responses\n",
    "\n",
    "        # Store the score and explanation for this response\n",
    "        evaluation_results.append({\n",
    "            'project': project,\n",
    "            'question': question,\n",
    "            'question_id': question_id,\n",
    "            'response': response,\n",
    "            'original_index': original_index,\n",
    "            'response_order': response_order,\n",
    "            'score': ollama_scores[0],  # Assuming ollama_scores is a list of length 1 for each query\n",
    "            'explanation': ollama_explanations[0]  # Assuming ollama_explanations is a list of length 1\n",
    "        })\n",
    "\n",
    "    # Convert the results to a DataFrame\n",
    "    evaluation_df = pd.DataFrame(evaluation_results)\n",
    "\n",
    "    # Sort the DataFrame by project, question_id, and response_order to get the correct final order\n",
    "    evaluation_df = evaluation_df.sort_values(by=['project', 'question_id', 'response_order']).reset_index(drop=True)\n",
    "\n",
    "    return evaluation_df"
   ]
  },
  {
   "cell_type": "code",
   "execution_count": 66,
   "id": "cdc0b9a4d9be41f2",
   "metadata": {},
   "outputs": [],
   "source": [
    "# Add original index column\n",
    "df['original_index'] = df.index\n",
    "\n",
    "# Step 1: Randomize order of projects\n",
    "project_order = df['project'].unique().tolist()\n",
    "random.shuffle(project_order)\n",
    "\n",
    "# Step 2: Process and shuffle questions within each project\n",
    "randomized_rows = []\n",
    "\n",
    "for project in project_order:\n",
    "    project_df = df[df['project'] == project].copy()\n",
    "\n",
    "    # Shuffle questions within the project\n",
    "    project_df = project_df.sample(frac=1).reset_index(drop=True)\n",
    "\n",
    "    randomized_rows.append(project_df)\n",
    "\n",
    "# Step 3: Combine all randomized rows\n",
    "df_randomized = pd.concat(randomized_rows, ignore_index=True)\n",
    "\n",
    "# Melt the response columns into individual rows\n",
    "response_columns = [f\"response_{i}\" for i in range(1, 7)]\n",
    "df_long = df_randomized.melt(\n",
    "    id_vars=['project', 'question_id', 'question', 'original_index'],\n",
    "    value_vars=response_columns,\n",
    "    var_name='response_column',\n",
    "    value_name='response'\n",
    ")\n",
    "\n",
    "# Drop any rows with missing responses\n",
    "df_long = df_long.dropna(subset=['response'])\n",
    "\n",
    "# Correcting the regular expression to avoid the warning\n",
    "df_long['response_order'] = df_long['response_column'].str.extract(r'(\\d+)').astype(int)\n",
    "\n",
    "# Drop the helper column\n",
    "df_long = df_long.drop(columns=['response_column'])"
   ]
  },
  {
   "cell_type": "code",
   "execution_count": 67,
   "id": "2523a21fd006e8d5",
   "metadata": {},
   "outputs": [],
   "source": [
    "evaluation_df = process_and_map_scores(df_long)"
   ]
  },
  {
   "cell_type": "code",
   "execution_count": 68,
   "id": "f1d55582cf4afe47",
   "metadata": {},
   "outputs": [],
   "source": [
    "# Display the results\n",
    "# Create wide-format response, score, and explanation columns\n",
    "df_wide = evaluation_df.pivot_table(\n",
    "    index=['original_index', 'project', 'question_id', 'question'],\n",
    "    columns='response_order',\n",
    "    values=['response', 'score', 'explanation'],\n",
    "    aggfunc='first'\n",
    ")\n",
    "\n",
    "# Flatten MultiIndex columns (e.g., ('response', 1) → response_1)\n",
    "df_wide.columns = [f\"{col[0]}_{col[1]}\" for col in df_wide.columns]\n",
    "\n",
    "# Reset index to make it a flat DataFrame again\n",
    "df_wide = df_wide.reset_index()\n",
    "\n",
    "# Optional: sort by original_index to restore CSV order\n",
    "df_wide = df_wide.sort_values(by='original_index').reset_index(drop=True)\n",
    "\n",
    "df_wide.to_csv(\"../data/generated/llama-3.3-70b-versatile.csv\")"
   ]
  },
  {
   "cell_type": "markdown",
   "id": "cf9dfdd8",
   "metadata": {},
   "source": [
    "## Analysis "
   ]
  },
  {
   "cell_type": "code",
   "execution_count": 71,
   "id": "c10d9d69",
   "metadata": {},
   "outputs": [],
   "source": [
    "data = pd.read_csv(\"../data/generated/llama-3.3-70b-versatile.csv\")"
   ]
  },
  {
   "cell_type": "code",
   "execution_count": 103,
   "id": "7ffb1c25",
   "metadata": {},
   "outputs": [
    {
     "data": {
      "text/html": [
       "<div>\n",
       "<style scoped>\n",
       "    .dataframe tbody tr th:only-of-type {\n",
       "        vertical-align: middle;\n",
       "    }\n",
       "\n",
       "    .dataframe tbody tr th {\n",
       "        vertical-align: top;\n",
       "    }\n",
       "\n",
       "    .dataframe thead th {\n",
       "        text-align: right;\n",
       "    }\n",
       "</style>\n",
       "<table border=\"1\" class=\"dataframe\">\n",
       "  <thead>\n",
       "    <tr style=\"text-align: right;\">\n",
       "      <th></th>\n",
       "      <th>question_id</th>\n",
       "      <th>project</th>\n",
       "      <th>score_1</th>\n",
       "      <th>score_2</th>\n",
       "      <th>score_3</th>\n",
       "      <th>score_4</th>\n",
       "      <th>score_5</th>\n",
       "      <th>score_6</th>\n",
       "    </tr>\n",
       "  </thead>\n",
       "  <tbody>\n",
       "    <tr>\n",
       "      <th>0</th>\n",
       "      <td>1</td>\n",
       "      <td>groovy/groovy-core</td>\n",
       "      <td>7</td>\n",
       "      <td>2</td>\n",
       "      <td>8</td>\n",
       "      <td>1</td>\n",
       "      <td>8</td>\n",
       "      <td>10</td>\n",
       "    </tr>\n",
       "    <tr>\n",
       "      <th>1</th>\n",
       "      <td>1</td>\n",
       "      <td>joestelmach/natty</td>\n",
       "      <td>1</td>\n",
       "      <td>1</td>\n",
       "      <td>1</td>\n",
       "      <td>8</td>\n",
       "      <td>8</td>\n",
       "      <td>8</td>\n",
       "    </tr>\n",
       "    <tr>\n",
       "      <th>2</th>\n",
       "      <td>1</td>\n",
       "      <td>pedrovgs/Renderers</td>\n",
       "      <td>7</td>\n",
       "      <td>10</td>\n",
       "      <td>9</td>\n",
       "      <td>9</td>\n",
       "      <td>10</td>\n",
       "      <td>9</td>\n",
       "    </tr>\n",
       "    <tr>\n",
       "      <th>3</th>\n",
       "      <td>1</td>\n",
       "      <td>sstrickx/yahoofinance-api</td>\n",
       "      <td>6</td>\n",
       "      <td>9</td>\n",
       "      <td>8</td>\n",
       "      <td>7</td>\n",
       "      <td>9</td>\n",
       "      <td>2</td>\n",
       "    </tr>\n",
       "    <tr>\n",
       "      <th>4</th>\n",
       "      <td>1</td>\n",
       "      <td>wg/scrypt</td>\n",
       "      <td>9</td>\n",
       "      <td>8</td>\n",
       "      <td>8</td>\n",
       "      <td>8</td>\n",
       "      <td>8</td>\n",
       "      <td>8</td>\n",
       "    </tr>\n",
       "  </tbody>\n",
       "</table>\n",
       "</div>"
      ],
      "text/plain": [
       "   question_id                    project  score_1  score_2  score_3  score_4  \\\n",
       "0            1         groovy/groovy-core        7        2        8        1   \n",
       "1            1          joestelmach/natty        1        1        1        8   \n",
       "2            1         pedrovgs/Renderers        7       10        9        9   \n",
       "3            1  sstrickx/yahoofinance-api        6        9        8        7   \n",
       "4            1                  wg/scrypt        9        8        8        8   \n",
       "\n",
       "   score_5  score_6  \n",
       "0        8       10  \n",
       "1        8        8  \n",
       "2       10        9  \n",
       "3        9        2  \n",
       "4        8        8  "
      ]
     },
     "execution_count": 103,
     "metadata": {},
     "output_type": "execute_result"
    }
   ],
   "source": [
    "data[['question_id','project','score_1', 'score_2', 'score_3', 'score_4', 'score_5', 'score_6']].head()"
   ]
  },
  {
   "cell_type": "markdown",
   "id": "2e78d39a",
   "metadata": {},
   "source": [
    "### Descriptive Statistics"
   ]
  },
  {
   "cell_type": "code",
   "execution_count": 101,
   "id": "20ab5518",
   "metadata": {},
   "outputs": [
    {
     "data": {
      "text/html": [
       "<div>\n",
       "<style scoped>\n",
       "    .dataframe tbody tr th:only-of-type {\n",
       "        vertical-align: middle;\n",
       "    }\n",
       "\n",
       "    .dataframe tbody tr th {\n",
       "        vertical-align: top;\n",
       "    }\n",
       "\n",
       "    .dataframe thead th {\n",
       "        text-align: right;\n",
       "    }\n",
       "</style>\n",
       "<table border=\"1\" class=\"dataframe\">\n",
       "  <thead>\n",
       "    <tr style=\"text-align: right;\">\n",
       "      <th></th>\n",
       "      <th>score_1</th>\n",
       "      <th>score_2</th>\n",
       "      <th>score_3</th>\n",
       "      <th>score_4</th>\n",
       "      <th>score_5</th>\n",
       "      <th>score_6</th>\n",
       "    </tr>\n",
       "  </thead>\n",
       "  <tbody>\n",
       "    <tr>\n",
       "      <th>count</th>\n",
       "      <td>170.000000</td>\n",
       "      <td>170.000000</td>\n",
       "      <td>170.000000</td>\n",
       "      <td>170.000000</td>\n",
       "      <td>170.000000</td>\n",
       "      <td>170.000000</td>\n",
       "    </tr>\n",
       "    <tr>\n",
       "      <th>mean</th>\n",
       "      <td>3.494118</td>\n",
       "      <td>3.658824</td>\n",
       "      <td>3.570588</td>\n",
       "      <td>4.364706</td>\n",
       "      <td>4.794118</td>\n",
       "      <td>4.852941</td>\n",
       "    </tr>\n",
       "    <tr>\n",
       "      <th>std</th>\n",
       "      <td>3.149616</td>\n",
       "      <td>3.263762</td>\n",
       "      <td>3.178751</td>\n",
       "      <td>3.288305</td>\n",
       "      <td>3.315549</td>\n",
       "      <td>3.230150</td>\n",
       "    </tr>\n",
       "    <tr>\n",
       "      <th>min</th>\n",
       "      <td>1.000000</td>\n",
       "      <td>1.000000</td>\n",
       "      <td>1.000000</td>\n",
       "      <td>1.000000</td>\n",
       "      <td>1.000000</td>\n",
       "      <td>1.000000</td>\n",
       "    </tr>\n",
       "    <tr>\n",
       "      <th>25%</th>\n",
       "      <td>1.000000</td>\n",
       "      <td>1.000000</td>\n",
       "      <td>1.000000</td>\n",
       "      <td>1.000000</td>\n",
       "      <td>1.000000</td>\n",
       "      <td>1.000000</td>\n",
       "    </tr>\n",
       "    <tr>\n",
       "      <th>50%</th>\n",
       "      <td>1.000000</td>\n",
       "      <td>1.000000</td>\n",
       "      <td>1.000000</td>\n",
       "      <td>4.000000</td>\n",
       "      <td>6.000000</td>\n",
       "      <td>6.000000</td>\n",
       "    </tr>\n",
       "    <tr>\n",
       "      <th>75%</th>\n",
       "      <td>7.000000</td>\n",
       "      <td>7.750000</td>\n",
       "      <td>7.000000</td>\n",
       "      <td>8.000000</td>\n",
       "      <td>8.000000</td>\n",
       "      <td>8.000000</td>\n",
       "    </tr>\n",
       "    <tr>\n",
       "      <th>max</th>\n",
       "      <td>10.000000</td>\n",
       "      <td>10.000000</td>\n",
       "      <td>10.000000</td>\n",
       "      <td>10.000000</td>\n",
       "      <td>10.000000</td>\n",
       "      <td>10.000000</td>\n",
       "    </tr>\n",
       "  </tbody>\n",
       "</table>\n",
       "</div>"
      ],
      "text/plain": [
       "          score_1     score_2     score_3     score_4     score_5     score_6\n",
       "count  170.000000  170.000000  170.000000  170.000000  170.000000  170.000000\n",
       "mean     3.494118    3.658824    3.570588    4.364706    4.794118    4.852941\n",
       "std      3.149616    3.263762    3.178751    3.288305    3.315549    3.230150\n",
       "min      1.000000    1.000000    1.000000    1.000000    1.000000    1.000000\n",
       "25%      1.000000    1.000000    1.000000    1.000000    1.000000    1.000000\n",
       "50%      1.000000    1.000000    1.000000    4.000000    6.000000    6.000000\n",
       "75%      7.000000    7.750000    7.000000    8.000000    8.000000    8.000000\n",
       "max     10.000000   10.000000   10.000000   10.000000   10.000000   10.000000"
      ]
     },
     "execution_count": 101,
     "metadata": {},
     "output_type": "execute_result"
    }
   ],
   "source": [
    "data[['score_1', 'score_2', 'score_3', 'score_4', 'score_5', 'score_6']].describe()"
   ]
  },
  {
   "cell_type": "markdown",
   "id": "333ff265",
   "metadata": {},
   "source": [
    "### Friedman Test (non-parametric, best for ordinal scores)"
   ]
  },
  {
   "cell_type": "code",
   "execution_count": 106,
   "id": "5e15b49e",
   "metadata": {},
   "outputs": [],
   "source": [
    "import itertools\n",
    "from scipy.stats import friedmanchisquare, wilcoxon"
   ]
  },
  {
   "cell_type": "code",
   "execution_count": 110,
   "id": "427fd992",
   "metadata": {},
   "outputs": [
    {
     "name": "stdout",
     "output_type": "stream",
     "text": [
      "Friedman test: chi-square = 48.176, p = 0.0000000033\n"
     ]
    }
   ],
   "source": [
    "score_columns = [f\"score_{i}\" for i in range(1, 7)]\n",
    "friedman_stat, friedman_p = friedmanchisquare(*[data[col] for col in score_columns])\n",
    "print(f\"Friedman test: chi-square = {friedman_stat:.3f}, p = {friedman_p:.10f}\")"
   ]
  },
  {
   "cell_type": "markdown",
   "id": "ee5fcfae",
   "metadata": {},
   "source": [
    "#### There is a statistically significant difference between at least some of the agent configurations."
   ]
  },
  {
   "cell_type": "markdown",
   "id": "1f34f99a",
   "metadata": {},
   "source": [
    "### Step 2: Pairwise Wilcoxon Tests"
   ]
  },
  {
   "cell_type": "code",
   "execution_count": null,
   "id": "bba64ede",
   "metadata": {},
   "outputs": [
    {
     "name": "stdout",
     "output_type": "stream",
     "text": [
      "\n",
      "Wilcoxon pairwise comparisons (with Bonferroni correction):\n",
      "   Config_A Config_B  Statistic   p_value  Bonferroni_Significant\n",
      "0   score_1  score_2     1320.0  0.457046                   False\n",
      "1   score_1  score_3     1576.5  0.833789                   False\n",
      "2   score_1  score_4     1755.0  0.007662                   False\n",
      "3   score_1  score_5     1038.5  0.000010                    True\n",
      "4   score_1  score_6     1090.0  0.000005                    True\n",
      "5   score_2  score_3     1494.0  0.672888                   False\n",
      "6   score_2  score_4     1962.5  0.036708                   False\n",
      "7   score_2  score_5     1176.5  0.000412                    True\n",
      "8   score_2  score_6     1493.0  0.000225                    True\n",
      "9   score_3  score_4     1699.5  0.009730                   False\n",
      "10  score_3  score_5     1255.5  0.000079                    True\n",
      "11  score_3  score_6     1607.0  0.000063                    True\n",
      "12  score_4  score_5     1857.5  0.154669                   False\n",
      "13  score_4  score_6     1515.0  0.089678                   False\n",
      "14  score_5  score_6     2218.0  0.955990                   False\n"
     ]
    }
   ],
   "source": [
    "results = []\n",
    "pairs = list(itertools.combinations(score_columns, 2))\n",
    "\n",
    "for a, b in pairs:\n",
    "    stat, p = wilcoxon(data[a], data[b])\n",
    "    results.append({\n",
    "        \"Config_A\": a,\n",
    "        \"Config_B\": b,\n",
    "        \"Statistic\": stat,\n",
    "        \"p_value\": p\n",
    "    })\n",
    "\n",
    "wilcoxon_df = pd.DataFrame(results)\n",
    "\n",
    "# Optional: Bonferroni correction\n",
    "bonferroni_threshold = 0.05 / len(wilcoxon_df)\n",
    "wilcoxon_df[\"Bonferroni_Significant\"] = wilcoxon_df[\"p_value\"] < bonferroni_threshold\n",
    "\n",
    "print(\"\\nWilcoxon pairwise comparisons (with Bonferroni correction):\")\n",
    "print(wilcoxon_df)"
   ]
  },
  {
   "cell_type": "markdown",
   "id": "13a89d05",
   "metadata": {},
   "source": [
    "#### These six pairs show strong evidence that `score_5` and `score_6` are consistently better/worse than other configurations."
   ]
  },
  {
   "cell_type": "code",
   "execution_count": 118,
   "id": "87396a67",
   "metadata": {},
   "outputs": [
    {
     "data": {
      "text/plain": [
       "(170,)"
      ]
     },
     "execution_count": 118,
     "metadata": {},
     "output_type": "execute_result"
    }
   ],
   "source": [
    "from scipy.stats import rankdata\n",
    "# Step 1: Extract score columns\n",
    "score_data = data[score_columns]\n",
    "\n",
    "# Step 2: Rank each row (higher scores get lower rank number, e.g. best = 1)\n",
    "ranked_data = score_data.apply(lambda row: rankdata(-row), axis=1)\n",
    "ranked_data.shape"
   ]
  },
  {
   "cell_type": "code",
   "execution_count": 119,
   "id": "b6e48900",
   "metadata": {},
   "outputs": [
    {
     "name": "stdout",
     "output_type": "stream",
     "text": [
      "Kendall's W: 0.037\n"
     ]
    }
   ],
   "source": [
    "from scipy.stats import rankdata\n",
    "# Step 1: Rank each row (higher scores should get lower ranks, so use -row)\n",
    "ranked_data = score_data.apply(lambda row: rankdata(-row), axis=1, result_type='expand')\n",
    "ranked_data.columns = score_columns  # Rename columns to match original scores\n",
    "\n",
    "# Step 2: Compute Kendall's W\n",
    "rank_sums = ranked_data.sum(axis=0)\n",
    "mean_rank_sum = rank_sums.mean()\n",
    "m = ranked_data.shape[0]  # number of items ranked (rows/questions)\n",
    "n = ranked_data.shape[1]  # number of raters (configs)\n",
    "\n",
    "S = ((rank_sums - mean_rank_sum) ** 2).sum()\n",
    "kendalls_W = (12 * S) / (m**2 * (n**3 - n))\n",
    "\n",
    "print(f\"Kendall's W: {kendalls_W:.3f}\")"
   ]
  },
  {
   "cell_type": "markdown",
   "id": "c71039c8",
   "metadata": {},
   "source": [
    "- Kendall’s W ranges from 0 (no agreement) to 1 (complete agreement).\n",
    "- A value of 0.037 indicates low agreement in the relative ranking of configurations across different questions.\n",
    "- This suggests that the best-performing configuration varies depending on the question.\n"
   ]
  },
  {
   "cell_type": "markdown",
   "id": "752854ff",
   "metadata": {},
   "source": [
    "### Let's analize per question category"
   ]
  },
  {
   "cell_type": "code",
   "execution_count": 120,
   "id": "6a4848a5",
   "metadata": {},
   "outputs": [],
   "source": [
    "## TODO"
   ]
  },
  {
   "cell_type": "markdown",
   "id": "d42aa968",
   "metadata": {},
   "source": [
    "## Visualization"
   ]
  },
  {
   "cell_type": "code",
   "execution_count": 122,
   "id": "f17dc3fd",
   "metadata": {},
   "outputs": [
    {
     "name": "stderr",
     "output_type": "stream",
     "text": [
      "/var/folders/8_/8mh1m3v91fn2rsrmp3sgl4vm0000gn/T/ipykernel_45770/1874268657.py:10: FutureWarning: \n",
      "\n",
      "Passing `palette` without assigning `hue` is deprecated and will be removed in v0.14.0. Assign the `x` variable to `hue` and set `legend=False` for the same effect.\n",
      "\n",
      "  sns.boxplot(x=\"Configuration\", y=\"Score\", data=melted, palette=\"Set2\")\n"
     ]
    },
    {
     "data": {
      "image/png": "[encoded data removed]",
      "text/plain": [
       "<Figure size 1000x600 with 1 Axes>"
      ]
     },
     "metadata": {},
     "output_type": "display_data"
    }
   ],
   "source": [
    "import seaborn as sns\n",
    "import matplotlib.pyplot as plt\n",
    "\n",
    "# Melt the DataFrame to long format for seaborn\n",
    "melted = data.melt(id_vars=[\"question_id\", \"project\"], value_vars=score_columns,\n",
    "                 var_name=\"Configuration\", value_name=\"Score\")\n",
    "\n",
    "# Boxplot\n",
    "plt.figure(figsize=(10, 6))\n",
    "sns.boxplot(x=\"Configuration\", y=\"Score\", data=melted, palette=\"Set2\")\n",
    "plt.title(\"Score Distribution per Agent Configuration\")\n",
    "plt.grid(axis='y')\n",
    "plt.show()"
   ]
  },
  {
   "cell_type": "markdown",
   "id": "bc395d21",
   "metadata": {},
   "source": [
    "#### Boxplot: Score Distribution per Agent Configuration\n",
    "\n",
    "📌 What it shows:\n",
    "- Distribution of scores (1–10) for each agent configuration (`score_1` to `score_6`).\n",
    "- Median (middle line), interquartile range (box), and outliers (points outside whiskers).\n",
    "\n",
    "🧠 Insights:\n",
    "- `score_5` and `score_6` have higher medians and more concentrated upper scores, suggesting better and more consistent responses.\n",
    "- `score_1` and `score_3` show a wider spread with lower medians — likely underperforming configurations.\n",
    "- This plot confirms that some configs regularly produce high-quality answers, while others vary more."
   ]
  },
  {
   "cell_type": "code",
   "execution_count": 124,
   "id": "739caac6",
   "metadata": {},
   "outputs": [
    {
     "data": {
      "image/png": "[encoded data removed]",
      "text/plain": [
       "<Figure size 1000x600 with 1 Axes>"
      ]
     },
     "metadata": {},
     "output_type": "display_data"
    }
   ],
   "source": [
    "# Compute mean and std\n",
    "desc_stats = melted.groupby(\"Configuration\")[\"Score\"].agg([\"mean\", \"std\"]).reset_index()\n",
    "\n",
    "# Bar plot with error bars\n",
    "plt.figure(figsize=(10, 6))\n",
    "plt.bar(desc_stats[\"Configuration\"], desc_stats[\"mean\"], yerr=desc_stats[\"std\"], capsize=5, color=\"cornflowerblue\")\n",
    "plt.ylabel(\"Average Score\")\n",
    "plt.title(\"Mean ± Std Dev of Scores per Configuration\")\n",
    "plt.grid(axis='y')\n",
    "plt.show()"
   ]
  },
  {
   "cell_type": "markdown",
   "id": "f2ee21a7",
   "metadata": {},
   "source": [
    "#### Barplot: Mean ± Std Dev of Scores\n",
    "\n",
    "📌 What it shows:\n",
    "- Average score for each configuration with error bars representing standard deviation.\n",
    "\n",
    "🧠 Insights:\n",
    "- `score_5` and `score_6` have the highest mean scores (~4.8), outperforming others on average.\n",
    "- Their large standard deviations show that while they score high, they still vary significantly — likely depending on the question type.\n",
    "- `score_1` to `score_3` have lower means (~3.5) and similar variability.\n",
    "\n",
    "This suggests `score_5` and `score_6` are generally better, but not universally superior."
   ]
  },
  {
   "cell_type": "code",
   "execution_count": 125,
   "id": "dfcc6cb9",
   "metadata": {},
   "outputs": [
    {
     "data": {
      "image/png": "[encoded data removed]",
      "text/plain": [
       "<Figure size 800x600 with 2 Axes>"
      ]
     },
     "metadata": {},
     "output_type": "display_data"
    }
   ],
   "source": [
    "import numpy as np\n",
    "\n",
    "# Create pivot matrix for heatmap\n",
    "configs = sorted(set(wilcoxon_df[\"Config_A\"]).union(wilcoxon_df[\"Config_B\"]))\n",
    "p_matrix = pd.DataFrame(np.nan, index=configs, columns=configs)\n",
    "\n",
    "for _, row in wilcoxon_df.iterrows():\n",
    "    a, b = row[\"Config_A\"], row[\"Config_B\"]\n",
    "    p = row[\"p_value\"]\n",
    "    p_matrix.loc[a, b] = p\n",
    "    p_matrix.loc[b, a] = p  # symmetric\n",
    "\n",
    "# Heatmap\n",
    "plt.figure(figsize=(8, 6))\n",
    "sns.heatmap(p_matrix.astype(float), annot=True, fmt=\".3f\", cmap=\"coolwarm_r\", mask=np.triu(p_matrix.isnull()))\n",
    "plt.title(\"Wilcoxon Pairwise p-values\")\n",
    "plt.show()"
   ]
  },
  {
   "cell_type": "markdown",
   "id": "bb01c6e0",
   "metadata": {},
   "source": [
    "#### Heatmap: Wilcoxon Pairwise p-values\n",
    "\n",
    "📌 What it shows:\n",
    "- Pairwise statistical comparison between configurations using the Wilcoxon signed-rank test.\n",
    "- Lower values (red) = greater difference; p-values < 0.05 indicate significant difference.\n",
    "\n",
    "🧠 Insights:\n",
    "- `score_5` and `score_6` are significantly different from most other configurations:\n",
    "- `score_5` vs `score_1` → $p = 0.004$\n",
    "- `score_6` vs `score_2` → $p = 0.016$\n",
    "- `score_1`, `score_2`, `score_3` have high p-values between them → little difference.\n",
    "- Some borderline p-values (e.g., `score_6` vs `score_3` = 0.049) may or may not be significant depending on correction method used.\n",
    "\n",
    "The heatmap statistically confirms what the boxplots suggest: `score_5` and `score_6` are the top performers, while `score_1` to `score_3` are largely indistinguishable in effectiveness."
   ]
  },
  {
   "cell_type": "markdown",
   "id": "9f54ab89",
   "metadata": {},
   "source": [
    "✅ Overall Takeaway:\n",
    "\n",
    "Rank\tConfiguration\tComment\n",
    "🥇\tscore_6\tHigh mean, good spread, significant difference vs others\n",
    "🥈\tscore_5\tSame as above, slightly lower or comparable\n",
    "🥉\tscore_4\tModerate performance\n",
    "—\tscore_1–3\tLower scores, not significantly different\n",
    "\n",
    "Recommendation: Focus future agent iterations on improving or combining the strategies behind score_5 and score_6. You may also drop or refactor underperforming ones (e.g., score_1).\n",
    "\n",
    "Would you like help annotating the plots or generating a LaTeX-ready summary of these findings?"
   ]
  },
  {
   "cell_type": "markdown",
   "id": "e167bdcd",
   "metadata": {},
   "source": []
  }
 ],
 "metadata": {
  "kernelspec": {
   "display_name": "code-explore",
   "language": "python",
   "name": "python3"
  },
  "language_info": {
   "codemirror_mode": {
    "name": "ipython",
    "version": 3
   },
   "file_extension": ".py",
   "mimetype": "text/x-python",
   "name": "python",
   "nbconvert_exporter": "python",
   "pygments_lexer": "ipython3",
   "version": "3.9.21"
  }
 },
 "nbformat": 4,
 "nbformat_minor": 5
}
