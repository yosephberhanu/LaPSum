{
 "cells": [
  {
   "cell_type": "code",
   "execution_count": 1,
   "id": "339ca405",
   "metadata": {},
   "outputs": [],
   "source": [
    "%load_ext autoreload\n",
    "%autoreload 2"
   ]
  },
  {
   "cell_type": "code",
   "execution_count": 2,
   "id": "c6e73690",
   "metadata": {},
   "outputs": [],
   "source": [
    "import os\n",
    "import sys\n",
    "sys.path.append(os.path.abspath(\"../\"))\n",
    "DATA_DIR = os.path.abspath(\"../data/\")"
   ]
  },
  {
   "cell_type": "code",
   "execution_count": 18,
   "id": "11eb10c9",
   "metadata": {},
   "outputs": [],
   "source": [
    "from src.data import load_code_to_text_dataset\n",
    "\n",
    "# Load full train split\n",
    "data = load_code_to_text_dataset(split=\"train\")"
   ]
  },
  {
   "cell_type": "code",
   "execution_count": 19,
   "id": "091311a6",
   "metadata": {},
   "outputs": [
    {
     "data": {
      "text/html": [
       "<div>\n",
       "<style scoped>\n",
       "    .dataframe tbody tr th:only-of-type {\n",
       "        vertical-align: middle;\n",
       "    }\n",
       "\n",
       "    .dataframe tbody tr th {\n",
       "        vertical-align: top;\n",
       "    }\n",
       "\n",
       "    .dataframe thead th {\n",
       "        text-align: right;\n",
       "    }\n",
       "</style>\n",
       "<table border=\"1\" class=\"dataframe\">\n",
       "  <thead>\n",
       "    <tr style=\"text-align: right;\">\n",
       "      <th></th>\n",
       "      <th>id</th>\n",
       "      <th>repo</th>\n",
       "      <th>path</th>\n",
       "      <th>func_name</th>\n",
       "      <th>original_string</th>\n",
       "      <th>language</th>\n",
       "      <th>code</th>\n",
       "      <th>code_tokens</th>\n",
       "      <th>docstring</th>\n",
       "      <th>docstring_tokens</th>\n",
       "      <th>sha</th>\n",
       "      <th>url</th>\n",
       "    </tr>\n",
       "  </thead>\n",
       "  <tbody>\n",
       "    <tr>\n",
       "      <th>0</th>\n",
       "      <td>0</td>\n",
       "      <td>wg/scrypt</td>\n",
       "      <td>src/main/java/com/lambdaworks/crypto/SCryptUti...</td>\n",
       "      <td>SCryptUtil.check</td>\n",
       "      <td>public static boolean check(String passwd, Str...</td>\n",
       "      <td>java</td>\n",
       "      <td>public static boolean check(String passwd, Str...</td>\n",
       "      <td>[public, static, boolean, check, (, String, pa...</td>\n",
       "      <td>Compare the supplied plaintext password to a h...</td>\n",
       "      <td>[Compare, the, supplied, plaintext, password, ...</td>\n",
       "      <td>0675236370458e819ee21e4427c5f7f3f9485d33</td>\n",
       "      <td>https://github.com/wg/scrypt/blob/067523637045...</td>\n",
       "    </tr>\n",
       "    <tr>\n",
       "      <th>1</th>\n",
       "      <td>1</td>\n",
       "      <td>wg/scrypt</td>\n",
       "      <td>src/main/java/com/lambdaworks/jni/Platform.java</td>\n",
       "      <td>Platform.detect</td>\n",
       "      <td>public static Platform detect() throws Unsuppo...</td>\n",
       "      <td>java</td>\n",
       "      <td>public static Platform detect() throws Unsuppo...</td>\n",
       "      <td>[public, static, Platform, detect, (, ), throw...</td>\n",
       "      <td>Attempt to detect the current platform.\\n\\n@re...</td>\n",
       "      <td>[Attempt, to, detect, the, current, platform, .]</td>\n",
       "      <td>0675236370458e819ee21e4427c5f7f3f9485d33</td>\n",
       "      <td>https://github.com/wg/scrypt/blob/067523637045...</td>\n",
       "    </tr>\n",
       "    <tr>\n",
       "      <th>2</th>\n",
       "      <td>2</td>\n",
       "      <td>groovy/groovy-core</td>\n",
       "      <td>src/main/org/codehaus/groovy/ast/ASTNode.java</td>\n",
       "      <td>ASTNode.getNodeMetaData</td>\n",
       "      <td>public &lt;T&gt; T getNodeMetaData(Object key) {\\n  ...</td>\n",
       "      <td>java</td>\n",
       "      <td>public &lt;T&gt; T getNodeMetaData(Object key) {\\n  ...</td>\n",
       "      <td>[public, &lt;, T, &gt;, T, getNodeMetaData, (, Objec...</td>\n",
       "      <td>Gets the node meta data.\\n\\n@param key - the m...</td>\n",
       "      <td>[Gets, the, node, meta, data, .]</td>\n",
       "      <td>01309f9d4be34ddf93c4a9943b5a97843bff6181</td>\n",
       "      <td>https://github.com/groovy/groovy-core/blob/013...</td>\n",
       "    </tr>\n",
       "    <tr>\n",
       "      <th>3</th>\n",
       "      <td>3</td>\n",
       "      <td>groovy/groovy-core</td>\n",
       "      <td>src/main/org/codehaus/groovy/ast/ASTNode.java</td>\n",
       "      <td>ASTNode.copyNodeMetaData</td>\n",
       "      <td>public void copyNodeMetaData(ASTNode other) {\\...</td>\n",
       "      <td>java</td>\n",
       "      <td>public void copyNodeMetaData(ASTNode other) {\\...</td>\n",
       "      <td>[public, void, copyNodeMetaData, (, ASTNode, o...</td>\n",
       "      <td>Copies all node meta data from the other node ...</td>\n",
       "      <td>[Copies, all, node, meta, data, from, the, oth...</td>\n",
       "      <td>01309f9d4be34ddf93c4a9943b5a97843bff6181</td>\n",
       "      <td>https://github.com/groovy/groovy-core/blob/013...</td>\n",
       "    </tr>\n",
       "    <tr>\n",
       "      <th>4</th>\n",
       "      <td>4</td>\n",
       "      <td>groovy/groovy-core</td>\n",
       "      <td>src/main/org/codehaus/groovy/ast/ASTNode.java</td>\n",
       "      <td>ASTNode.setNodeMetaData</td>\n",
       "      <td>public void setNodeMetaData(Object key, Object...</td>\n",
       "      <td>java</td>\n",
       "      <td>public void setNodeMetaData(Object key, Object...</td>\n",
       "      <td>[public, void, setNodeMetaData, (, Object, key...</td>\n",
       "      <td>Sets the node meta data.\\n\\n@param key - the m...</td>\n",
       "      <td>[Sets, the, node, meta, data, .]</td>\n",
       "      <td>01309f9d4be34ddf93c4a9943b5a97843bff6181</td>\n",
       "      <td>https://github.com/groovy/groovy-core/blob/013...</td>\n",
       "    </tr>\n",
       "  </tbody>\n",
       "</table>\n",
       "</div>"
      ],
      "text/plain": [
       "   id                repo                                               path  \\\n",
       "0   0           wg/scrypt  src/main/java/com/lambdaworks/crypto/SCryptUti...   \n",
       "1   1           wg/scrypt    src/main/java/com/lambdaworks/jni/Platform.java   \n",
       "2   2  groovy/groovy-core      src/main/org/codehaus/groovy/ast/ASTNode.java   \n",
       "3   3  groovy/groovy-core      src/main/org/codehaus/groovy/ast/ASTNode.java   \n",
       "4   4  groovy/groovy-core      src/main/org/codehaus/groovy/ast/ASTNode.java   \n",
       "\n",
       "                  func_name  \\\n",
       "0          SCryptUtil.check   \n",
       "1           Platform.detect   \n",
       "2   ASTNode.getNodeMetaData   \n",
       "3  ASTNode.copyNodeMetaData   \n",
       "4   ASTNode.setNodeMetaData   \n",
       "\n",
       "                                     original_string language  \\\n",
       "0  public static boolean check(String passwd, Str...     java   \n",
       "1  public static Platform detect() throws Unsuppo...     java   \n",
       "2  public <T> T getNodeMetaData(Object key) {\\n  ...     java   \n",
       "3  public void copyNodeMetaData(ASTNode other) {\\...     java   \n",
       "4  public void setNodeMetaData(Object key, Object...     java   \n",
       "\n",
       "                                                code  \\\n",
       "0  public static boolean check(String passwd, Str...   \n",
       "1  public static Platform detect() throws Unsuppo...   \n",
       "2  public <T> T getNodeMetaData(Object key) {\\n  ...   \n",
       "3  public void copyNodeMetaData(ASTNode other) {\\...   \n",
       "4  public void setNodeMetaData(Object key, Object...   \n",
       "\n",
       "                                         code_tokens  \\\n",
       "0  [public, static, boolean, check, (, String, pa...   \n",
       "1  [public, static, Platform, detect, (, ), throw...   \n",
       "2  [public, <, T, >, T, getNodeMetaData, (, Objec...   \n",
       "3  [public, void, copyNodeMetaData, (, ASTNode, o...   \n",
       "4  [public, void, setNodeMetaData, (, Object, key...   \n",
       "\n",
       "                                           docstring  \\\n",
       "0  Compare the supplied plaintext password to a h...   \n",
       "1  Attempt to detect the current platform.\\n\\n@re...   \n",
       "2  Gets the node meta data.\\n\\n@param key - the m...   \n",
       "3  Copies all node meta data from the other node ...   \n",
       "4  Sets the node meta data.\\n\\n@param key - the m...   \n",
       "\n",
       "                                    docstring_tokens  \\\n",
       "0  [Compare, the, supplied, plaintext, password, ...   \n",
       "1   [Attempt, to, detect, the, current, platform, .]   \n",
       "2                   [Gets, the, node, meta, data, .]   \n",
       "3  [Copies, all, node, meta, data, from, the, oth...   \n",
       "4                   [Sets, the, node, meta, data, .]   \n",
       "\n",
       "                                        sha  \\\n",
       "0  0675236370458e819ee21e4427c5f7f3f9485d33   \n",
       "1  0675236370458e819ee21e4427c5f7f3f9485d33   \n",
       "2  01309f9d4be34ddf93c4a9943b5a97843bff6181   \n",
       "3  01309f9d4be34ddf93c4a9943b5a97843bff6181   \n",
       "4  01309f9d4be34ddf93c4a9943b5a97843bff6181   \n",
       "\n",
       "                                                 url  \n",
       "0  https://github.com/wg/scrypt/blob/067523637045...  \n",
       "1  https://github.com/wg/scrypt/blob/067523637045...  \n",
       "2  https://github.com/groovy/groovy-core/blob/013...  \n",
       "3  https://github.com/groovy/groovy-core/blob/013...  \n",
       "4  https://github.com/groovy/groovy-core/blob/013...  "
      ]
     },
     "execution_count": 19,
     "metadata": {},
     "output_type": "execute_result"
    }
   ],
   "source": [
    "data.head(5)"
   ]
  },
  {
   "cell_type": "code",
   "execution_count": null,
   "id": "0e3e113c",
   "metadata": {},
   "outputs": [],
   "source": [
    "data.to_csv(f\"{DATA_DIR}/raw/data.csv\", index=False)"
   ]
  },
  {
   "cell_type": "code",
   "execution_count": 23,
   "id": "6fdd9a6c",
   "metadata": {},
   "outputs": [],
   "source": [
    "data[\"repo_url\"] = \"https://github.com/\" + data[\"repo\"]"
   ]
  },
  {
   "cell_type": "code",
   "execution_count": 32,
   "id": "84bc924e",
   "metadata": {},
   "outputs": [],
   "source": [
    "data[\"code_db\"] = data[\"repo\"].apply(lambda x: x.split(\"/\")[-1] + \".db\")"
   ]
  },
  {
   "cell_type": "code",
   "execution_count": 30,
   "id": "84d0adee",
   "metadata": {},
   "outputs": [],
   "source": [
    "data[\"repo_url\"].drop_duplicates().to_csv(f\"{DATA_DIR}/raw/repos.txt\", index=False, header=False)"
   ]
  },
  {
   "cell_type": "code",
   "execution_count": 37,
   "id": "f8764a0a",
   "metadata": {},
   "outputs": [],
   "source": [
    "data[[\"code_db\",\"repo\"]].drop_duplicates().to_csv(f\"{DATA_DIR}/processed/projects.csv\", index=False)"
   ]
  },
  {
   "cell_type": "markdown",
   "id": "af3ac0fe",
   "metadata": {},
   "source": [
    "## Run The Extractor "
   ]
  },
  {
   "cell_type": "markdown",
   "id": "b75bc5d6",
   "metadata": {},
   "source": []
  }
 ],
 "metadata": {
  "kernelspec": {
   "display_name": "code-explore",
   "language": "python",
   "name": "python3"
  },
  "language_info": {
   "codemirror_mode": {
    "name": "ipython",
    "version": 3
   },
   "file_extension": ".py",
   "mimetype": "text/x-python",
   "name": "python",
   "nbconvert_exporter": "python",
   "pygments_lexer": "ipython3",
   "version": "3.9.21"
  }
 },
 "nbformat": 4,
 "nbformat_minor": 5
}
