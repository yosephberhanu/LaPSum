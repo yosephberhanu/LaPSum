{
 "cells": [
  {
   "cell_type": "code",
   "execution_count": null,
   "id": "d623fb7e",
   "metadata": {},
   "outputs": [],
   "source": [
    "# MAX_ATTEMPTS = 1\n",
    "# RUN_ID = 8\n",
    "# RUN_NOTE = \"Second run with code agent only\"\n",
    "# RUN_AGENTS = ['code', 'github', 'docs', 'git']"
   ]
  },
  {
   "cell_type": "code",
   "execution_count": null,
   "id": "5458b88c",
   "metadata": {},
   "outputs": [],
   "source": [
    "%load_ext autoreload\n",
    "%autoreload 2"
   ]
  },
  {
   "cell_type": "code",
   "execution_count": null,
   "id": "5843fbb9",
   "metadata": {},
   "outputs": [],
   "source": [
    "import re\n",
    "import os\n",
    "import sys\n",
    "import time\n",
    "BASE_DIR = os.path.abspath(os.path.abspath(\"../\"))\n",
    "sys.path.append(BASE_DIR)"
   ]
  },
  {
   "cell_type": "code",
   "execution_count": null,
   "id": "cf08960c",
   "metadata": {},
   "outputs": [],
   "source": [
    "import pandas as pd\n",
    "from langchain_core.messages import BaseMessage, HumanMessage\n",
    "from src.orchestration.graph import graph\n",
    "from src.utils import safe_get_content, remove_think_block"
   ]
  },
  {
   "cell_type": "code",
   "execution_count": null,
   "id": "85b63890",
   "metadata": {},
   "outputs": [],
   "source": [
    "questions = pd.read_csv(BASE_DIR+\"/data/external/final_questions.csv\", index_col='id')\n",
    "questions"
   ]
  },
  {
   "cell_type": "code",
   "execution_count": null,
   "id": "73da2e3f",
   "metadata": {},
   "outputs": [],
   "source": [
    "projects = pd.read_csv(BASE_DIR+\"/data/processed/projects.csv\")\n",
    "projects[\"repo_path\"] = projects[\"repo\"].apply(lambda x: f\"{BASE_DIR}/data/processed/{x.split('/')[-1]}\")"
   ]
  },
  {
   "cell_type": "code",
   "execution_count": null,
   "id": "211d9120",
   "metadata": {},
   "outputs": [],
   "source": [
    "projects.head(5)"
   ]
  },
  {
   "cell_type": "code",
   "execution_count": null,
   "id": "425e1a9e",
   "metadata": {},
   "outputs": [],
   "source": [
    "data = pd.merge(questions, projects, left_on='project', right_on='repo', how='inner')\n",
    "data.head(5)"
   ]
  },
  {
   "cell_type": "code",
   "execution_count": null,
   "id": "a34de9e5",
   "metadata": {},
   "outputs": [],
   "source": [
    "runs = pd.read_csv(\"../data/external/runs.csv\")\n",
    "runs"
   ]
  },
  {
   "cell_type": "code",
   "execution_count": null,
   "id": "591a783f",
   "metadata": {},
   "outputs": [],
   "source": [
    "for _, row in runs.iterrows():\n",
    "    RUN_ID = row['run_id']\n",
    "    RUN_NOTE = row['note']\n",
    "    RUN_GIT = row['git']\n",
    "    RUN_GITHUB = row['github']\n",
    "    RUN_CODE = row['code']\n",
    "    RUN_DOCS = row['docs']\n",
    "    start = time.time()\n",
    "    generated = []\n",
    "    for i, row in data.iterrows():\n",
    "        question = row['customized_quesstion']\n",
    "        # result = graph.invoke\n",
    "        code_db = BASE_DIR+\"/data/processed/\"+row['code_db']\n",
    "        repository_path = row['repo_path']\n",
    "        github_id = row['repo']\n",
    "        docs_url = row['docs_url']\n",
    "        attempt = 0\n",
    "            # response = f\"Response for question '{question}' on {repository_path} with code_db {code_db} and github_id {github_id} running agents: {RUN_AGENTS}\"\n",
    "        try: \n",
    "            print(f\"Running question {RUN_ID} \")\n",
    "            result = graph.invoke({\n",
    "                \"user_query\": [HumanMessage(question)],\n",
    "                \"source_db\": code_db,\n",
    "                \"repository_path\": repository_path,\n",
    "                \"docs_source\": docs_url,\n",
    "                \"github_url\": github_id,\n",
    "                \"run_git\": RUN_GIT,\n",
    "                \"run_github\": RUN_GITHUB,\n",
    "                \"run_code\":RUN_CODE,\n",
    "                \"run_docs\": RUN_DOCS\n",
    "                })\n",
    "            if(result[\"final_response\"]):\n",
    "                final_response = result['final_response'].content\n",
    "            else:\n",
    "                final_response = 'Error: cound not answer'\n",
    "            \n",
    "        except Exception as e:\n",
    "            print(f\"Error: {e}\")\n",
    "            final_response = \"Error: cound not answer\"\n",
    "        \n",
    "        generated.append({\n",
    "            \"run_id\": RUN_ID,\n",
    "            \"question_id\": row[\"question_id\"],\n",
    "            \"question\": question,\n",
    "            \"project\": github_id,\n",
    "            \"final_response\": final_response,\n",
    "        })  \n",
    "        generated_df = pd.DataFrame(generated)\n",
    "        generated_df.to_csv(f\"{BASE_DIR}/data/generated/generated_{RUN_ID}.csv\", index=False)\n",
    "    end = time.time()\n",
    "    with open(f\"{BASE_DIR}/data/generated/completed_runs.csv\", \"a\") as f:\n",
    "        f.write(f\"{RUN_ID},{len(generated_df)},{end - start:.4f}\\n\")"
   ]
  },
  {
   "cell_type": "code",
   "execution_count": null,
   "id": "eaa47aa9",
   "metadata": {},
   "outputs": [],
   "source": [
    "generated_df = pd.DataFrame(generated)"
   ]
  },
  {
   "cell_type": "code",
   "execution_count": null,
   "id": "0615ba02",
   "metadata": {},
   "outputs": [],
   "source": [
    "generated_df.head()"
   ]
  },
  {
   "cell_type": "code",
   "execution_count": null,
   "id": "634f988e",
   "metadata": {},
   "outputs": [],
   "source": [
    "generated_df.to_csv(f\"{BASE_DIR}/data/generated/generated_{RUN_ID}.csv\", index=False)"
   ]
  },
  {
   "cell_type": "code",
   "execution_count": null,
   "id": "af01c277",
   "metadata": {},
   "outputs": [],
   "source": [
    "\n",
    "# Get current formatted time\n"
   ]
  }
 ],
 "metadata": {
  "kernelspec": {
   "display_name": "code-explore",
   "language": "python",
   "name": "python3"
  },
  "language_info": {
   "codemirror_mode": {
    "name": "ipython",
    "version": 3
   },
   "file_extension": ".py",
   "mimetype": "text/x-python",
   "name": "python",
   "nbconvert_exporter": "python",
   "pygments_lexer": "ipython3",
   "version": "3.9.21"
  }
 },
 "nbformat": 4,
 "nbformat_minor": 5
}
